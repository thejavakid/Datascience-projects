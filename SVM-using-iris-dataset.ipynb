{
 "cells": [
  {
   "cell_type": "markdown",
   "id": "85226af7",
   "metadata": {},
   "source": [
    "# Support Vector Machine"
   ]
  },
  {
   "cell_type": "code",
   "execution_count": 27,
   "id": "0eed083b",
   "metadata": {},
   "outputs": [],
   "source": [
    "import matplotlib.pyplot as plt\n",
    "from scipy import stats\n",
    "import seaborn as sns\n",
    "import pandas as pd\n",
    "import numpy as np\n",
    "from sklearn import datasets\n",
    "from sklearn.model_selection import train_test_split\n",
    "from sklearn import svm\n",
    "from mlxtend.plotting import plot_decision_regions\n",
    "from sklearn.metrics import confusion_matrix\n",
    "from sklearn import metrics"
   ]
  },
  {
   "cell_type": "code",
   "execution_count": 2,
   "id": "768d05b8",
   "metadata": {},
   "outputs": [],
   "source": [
    "iris = datasets.load_iris()"
   ]
  },
  {
   "cell_type": "code",
   "execution_count": 3,
   "id": "0e02ddb1",
   "metadata": {},
   "outputs": [],
   "source": [
    "features = pd.DataFrame(iris.data,columns = iris.feature_names)\n",
    "target = pd.DataFrame(iris.target,columns =['target'])\n",
    "df = pd.concat([features, target], axis=1)"
   ]
  },
  {
   "cell_type": "code",
   "execution_count": 4,
   "id": "2ab528e5",
   "metadata": {},
   "outputs": [
    {
     "data": {
      "text/html": [
       "<div>\n",
       "<style scoped>\n",
       "    .dataframe tbody tr th:only-of-type {\n",
       "        vertical-align: middle;\n",
       "    }\n",
       "\n",
       "    .dataframe tbody tr th {\n",
       "        vertical-align: top;\n",
       "    }\n",
       "\n",
       "    .dataframe thead th {\n",
       "        text-align: right;\n",
       "    }\n",
       "</style>\n",
       "<table border=\"1\" class=\"dataframe\">\n",
       "  <thead>\n",
       "    <tr style=\"text-align: right;\">\n",
       "      <th></th>\n",
       "      <th>sepal length (cm)</th>\n",
       "      <th>sepal width (cm)</th>\n",
       "      <th>petal length (cm)</th>\n",
       "      <th>petal width (cm)</th>\n",
       "      <th>target</th>\n",
       "    </tr>\n",
       "  </thead>\n",
       "  <tbody>\n",
       "    <tr>\n",
       "      <th>count</th>\n",
       "      <td>150.000000</td>\n",
       "      <td>150.000000</td>\n",
       "      <td>150.000000</td>\n",
       "      <td>150.000000</td>\n",
       "      <td>150.000000</td>\n",
       "    </tr>\n",
       "    <tr>\n",
       "      <th>mean</th>\n",
       "      <td>5.843333</td>\n",
       "      <td>3.057333</td>\n",
       "      <td>3.758000</td>\n",
       "      <td>1.199333</td>\n",
       "      <td>1.000000</td>\n",
       "    </tr>\n",
       "    <tr>\n",
       "      <th>std</th>\n",
       "      <td>0.828066</td>\n",
       "      <td>0.435866</td>\n",
       "      <td>1.765298</td>\n",
       "      <td>0.762238</td>\n",
       "      <td>0.819232</td>\n",
       "    </tr>\n",
       "    <tr>\n",
       "      <th>min</th>\n",
       "      <td>4.300000</td>\n",
       "      <td>2.000000</td>\n",
       "      <td>1.000000</td>\n",
       "      <td>0.100000</td>\n",
       "      <td>0.000000</td>\n",
       "    </tr>\n",
       "    <tr>\n",
       "      <th>25%</th>\n",
       "      <td>5.100000</td>\n",
       "      <td>2.800000</td>\n",
       "      <td>1.600000</td>\n",
       "      <td>0.300000</td>\n",
       "      <td>0.000000</td>\n",
       "    </tr>\n",
       "    <tr>\n",
       "      <th>50%</th>\n",
       "      <td>5.800000</td>\n",
       "      <td>3.000000</td>\n",
       "      <td>4.350000</td>\n",
       "      <td>1.300000</td>\n",
       "      <td>1.000000</td>\n",
       "    </tr>\n",
       "    <tr>\n",
       "      <th>75%</th>\n",
       "      <td>6.400000</td>\n",
       "      <td>3.300000</td>\n",
       "      <td>5.100000</td>\n",
       "      <td>1.800000</td>\n",
       "      <td>2.000000</td>\n",
       "    </tr>\n",
       "    <tr>\n",
       "      <th>max</th>\n",
       "      <td>7.900000</td>\n",
       "      <td>4.400000</td>\n",
       "      <td>6.900000</td>\n",
       "      <td>2.500000</td>\n",
       "      <td>2.000000</td>\n",
       "    </tr>\n",
       "  </tbody>\n",
       "</table>\n",
       "</div>"
      ],
      "text/plain": [
       "       sepal length (cm)  sepal width (cm)  petal length (cm)  \\\n",
       "count         150.000000        150.000000         150.000000   \n",
       "mean            5.843333          3.057333           3.758000   \n",
       "std             0.828066          0.435866           1.765298   \n",
       "min             4.300000          2.000000           1.000000   \n",
       "25%             5.100000          2.800000           1.600000   \n",
       "50%             5.800000          3.000000           4.350000   \n",
       "75%             6.400000          3.300000           5.100000   \n",
       "max             7.900000          4.400000           6.900000   \n",
       "\n",
       "       petal width (cm)      target  \n",
       "count        150.000000  150.000000  \n",
       "mean           1.199333    1.000000  \n",
       "std            0.762238    0.819232  \n",
       "min            0.100000    0.000000  \n",
       "25%            0.300000    0.000000  \n",
       "50%            1.300000    1.000000  \n",
       "75%            1.800000    2.000000  \n",
       "max            2.500000    2.000000  "
      ]
     },
     "execution_count": 4,
     "metadata": {},
     "output_type": "execute_result"
    }
   ],
   "source": [
    "df.describe()"
   ]
  },
  {
   "cell_type": "code",
   "execution_count": 5,
   "id": "3df78851",
   "metadata": {},
   "outputs": [
    {
     "data": {
      "text/html": [
       "<div>\n",
       "<style scoped>\n",
       "    .dataframe tbody tr th:only-of-type {\n",
       "        vertical-align: middle;\n",
       "    }\n",
       "\n",
       "    .dataframe tbody tr th {\n",
       "        vertical-align: top;\n",
       "    }\n",
       "\n",
       "    .dataframe thead th {\n",
       "        text-align: right;\n",
       "    }\n",
       "</style>\n",
       "<table border=\"1\" class=\"dataframe\">\n",
       "  <thead>\n",
       "    <tr style=\"text-align: right;\">\n",
       "      <th></th>\n",
       "      <th>sepal length (cm)</th>\n",
       "      <th>sepal width (cm)</th>\n",
       "      <th>petal length (cm)</th>\n",
       "      <th>petal width (cm)</th>\n",
       "      <th>target</th>\n",
       "    </tr>\n",
       "  </thead>\n",
       "  <tbody>\n",
       "    <tr>\n",
       "      <th>0</th>\n",
       "      <td>5.1</td>\n",
       "      <td>3.5</td>\n",
       "      <td>1.4</td>\n",
       "      <td>0.2</td>\n",
       "      <td>0</td>\n",
       "    </tr>\n",
       "    <tr>\n",
       "      <th>1</th>\n",
       "      <td>4.9</td>\n",
       "      <td>3.0</td>\n",
       "      <td>1.4</td>\n",
       "      <td>0.2</td>\n",
       "      <td>0</td>\n",
       "    </tr>\n",
       "    <tr>\n",
       "      <th>2</th>\n",
       "      <td>4.7</td>\n",
       "      <td>3.2</td>\n",
       "      <td>1.3</td>\n",
       "      <td>0.2</td>\n",
       "      <td>0</td>\n",
       "    </tr>\n",
       "    <tr>\n",
       "      <th>3</th>\n",
       "      <td>4.6</td>\n",
       "      <td>3.1</td>\n",
       "      <td>1.5</td>\n",
       "      <td>0.2</td>\n",
       "      <td>0</td>\n",
       "    </tr>\n",
       "    <tr>\n",
       "      <th>4</th>\n",
       "      <td>5.0</td>\n",
       "      <td>3.6</td>\n",
       "      <td>1.4</td>\n",
       "      <td>0.2</td>\n",
       "      <td>0</td>\n",
       "    </tr>\n",
       "    <tr>\n",
       "      <th>5</th>\n",
       "      <td>5.4</td>\n",
       "      <td>3.9</td>\n",
       "      <td>1.7</td>\n",
       "      <td>0.4</td>\n",
       "      <td>0</td>\n",
       "    </tr>\n",
       "  </tbody>\n",
       "</table>\n",
       "</div>"
      ],
      "text/plain": [
       "   sepal length (cm)  sepal width (cm)  petal length (cm)  petal width (cm)  \\\n",
       "0                5.1               3.5                1.4               0.2   \n",
       "1                4.9               3.0                1.4               0.2   \n",
       "2                4.7               3.2                1.3               0.2   \n",
       "3                4.6               3.1                1.5               0.2   \n",
       "4                5.0               3.6                1.4               0.2   \n",
       "5                5.4               3.9                1.7               0.4   \n",
       "\n",
       "   target  \n",
       "0       0  \n",
       "1       0  \n",
       "2       0  \n",
       "3       0  \n",
       "4       0  \n",
       "5       0  "
      ]
     },
     "execution_count": 5,
     "metadata": {},
     "output_type": "execute_result"
    }
   ],
   "source": [
    "df.head(6)"
   ]
  },
  {
   "cell_type": "code",
   "execution_count": 6,
   "id": "40bf9232",
   "metadata": {},
   "outputs": [],
   "source": [
    "sepal_length = iris['data'][:, 0]\n",
    "petal_length = iris['data'][:, 2]\n",
    "sepal_width = iris['data'][:, 1]\n",
    "petal_width = iris['data'][:, 3]"
   ]
  },
  {
   "cell_type": "code",
   "execution_count": 7,
   "id": "69bc9f8e",
   "metadata": {},
   "outputs": [],
   "source": [
    "target = iris['target']"
   ]
  },
  {
   "cell_type": "markdown",
   "id": "4964c9f1",
   "metadata": {},
   "source": [
    "# Data preprocessing"
   ]
  },
  {
   "cell_type": "code",
   "execution_count": 8,
   "id": "5983c6ea",
   "metadata": {},
   "outputs": [
    {
     "data": {
      "text/plain": [
       "0    50\n",
       "1    50\n",
       "2    50\n",
       "Name: target, dtype: int64"
      ]
     },
     "execution_count": 8,
     "metadata": {},
     "output_type": "execute_result"
    }
   ],
   "source": [
    "df['target'].value_counts()"
   ]
  },
  {
   "cell_type": "code",
   "execution_count": 9,
   "id": "1676c25f",
   "metadata": {},
   "outputs": [
    {
     "name": "stdout",
     "output_type": "stream",
     "text": [
      "[[9.00681170e-01 1.01900435e+00 1.34022653e+00 1.31544430e+00\n",
      "  1.22474487e+00]\n",
      " [1.14301691e+00 1.31979479e-01 1.34022653e+00 1.31544430e+00\n",
      "  1.22474487e+00]\n",
      " [1.38535265e+00 3.28414053e-01 1.39706395e+00 1.31544430e+00\n",
      "  1.22474487e+00]\n",
      " [1.50652052e+00 9.82172869e-02 1.28338910e+00 1.31544430e+00\n",
      "  1.22474487e+00]\n",
      " [1.02184904e+00 1.24920112e+00 1.34022653e+00 1.31544430e+00\n",
      "  1.22474487e+00]\n",
      " [5.37177559e-01 1.93979142e+00 1.16971425e+00 1.05217993e+00\n",
      "  1.22474487e+00]\n",
      " [1.50652052e+00 7.88807586e-01 1.34022653e+00 1.18381211e+00\n",
      "  1.22474487e+00]\n",
      " [1.02184904e+00 7.88807586e-01 1.28338910e+00 1.31544430e+00\n",
      "  1.22474487e+00]\n",
      " [1.74885626e+00 3.62176246e-01 1.34022653e+00 1.31544430e+00\n",
      "  1.22474487e+00]\n",
      " [1.14301691e+00 9.82172869e-02 1.28338910e+00 1.44707648e+00\n",
      "  1.22474487e+00]\n",
      " [5.37177559e-01 1.47939788e+00 1.28338910e+00 1.31544430e+00\n",
      "  1.22474487e+00]\n",
      " [1.26418478e+00 7.88807586e-01 1.22655167e+00 1.31544430e+00\n",
      "  1.22474487e+00]\n",
      " [1.26418478e+00 1.31979479e-01 1.34022653e+00 1.44707648e+00\n",
      "  1.22474487e+00]\n",
      " [1.87002413e+00 1.31979479e-01 1.51073881e+00 1.44707648e+00\n",
      "  1.22474487e+00]\n",
      " [5.25060772e-02 2.16998818e+00 1.45390138e+00 1.31544430e+00\n",
      "  1.22474487e+00]\n",
      " [1.73673948e-01 3.09077525e+00 1.28338910e+00 1.05217993e+00\n",
      "  1.22474487e+00]\n",
      " [5.37177559e-01 1.93979142e+00 1.39706395e+00 1.05217993e+00\n",
      "  1.22474487e+00]\n",
      " [9.00681170e-01 1.01900435e+00 1.34022653e+00 1.18381211e+00\n",
      "  1.22474487e+00]\n",
      " [1.73673948e-01 1.70959465e+00 1.16971425e+00 1.18381211e+00\n",
      "  1.22474487e+00]\n",
      " [9.00681170e-01 1.70959465e+00 1.28338910e+00 1.18381211e+00\n",
      "  1.22474487e+00]\n",
      " [5.37177559e-01 7.88807586e-01 1.16971425e+00 1.31544430e+00\n",
      "  1.22474487e+00]\n",
      " [9.00681170e-01 1.47939788e+00 1.28338910e+00 1.05217993e+00\n",
      "  1.22474487e+00]\n",
      " [1.50652052e+00 1.24920112e+00 1.56757623e+00 1.31544430e+00\n",
      "  1.22474487e+00]\n",
      " [9.00681170e-01 5.58610819e-01 1.16971425e+00 9.20547742e-01\n",
      "  1.22474487e+00]\n",
      " [1.26418478e+00 7.88807586e-01 1.05603939e+00 1.31544430e+00\n",
      "  1.22474487e+00]\n",
      " [1.02184904e+00 1.31979479e-01 1.22655167e+00 1.31544430e+00\n",
      "  1.22474487e+00]\n",
      " [1.02184904e+00 7.88807586e-01 1.22655167e+00 1.05217993e+00\n",
      "  1.22474487e+00]\n",
      " [7.79513300e-01 1.01900435e+00 1.28338910e+00 1.31544430e+00\n",
      "  1.22474487e+00]\n",
      " [7.79513300e-01 7.88807586e-01 1.34022653e+00 1.31544430e+00\n",
      "  1.22474487e+00]\n",
      " [1.38535265e+00 3.28414053e-01 1.22655167e+00 1.31544430e+00\n",
      "  1.22474487e+00]\n",
      " [1.26418478e+00 9.82172869e-02 1.22655167e+00 1.31544430e+00\n",
      "  1.22474487e+00]\n",
      " [5.37177559e-01 7.88807586e-01 1.28338910e+00 1.05217993e+00\n",
      "  1.22474487e+00]\n",
      " [7.79513300e-01 2.40018495e+00 1.28338910e+00 1.44707648e+00\n",
      "  1.22474487e+00]\n",
      " [4.16009689e-01 2.63038172e+00 1.34022653e+00 1.31544430e+00\n",
      "  1.22474487e+00]\n",
      " [1.14301691e+00 9.82172869e-02 1.28338910e+00 1.31544430e+00\n",
      "  1.22474487e+00]\n",
      " [1.02184904e+00 3.28414053e-01 1.45390138e+00 1.31544430e+00\n",
      "  1.22474487e+00]\n",
      " [4.16009689e-01 1.01900435e+00 1.39706395e+00 1.31544430e+00\n",
      "  1.22474487e+00]\n",
      " [1.14301691e+00 1.24920112e+00 1.34022653e+00 1.44707648e+00\n",
      "  1.22474487e+00]\n",
      " [1.74885626e+00 1.31979479e-01 1.39706395e+00 1.31544430e+00\n",
      "  1.22474487e+00]\n",
      " [9.00681170e-01 7.88807586e-01 1.28338910e+00 1.31544430e+00\n",
      "  1.22474487e+00]\n",
      " [1.02184904e+00 1.01900435e+00 1.39706395e+00 1.18381211e+00\n",
      "  1.22474487e+00]\n",
      " [1.62768839e+00 1.74335684e+00 1.39706395e+00 1.18381211e+00\n",
      "  1.22474487e+00]\n",
      " [1.74885626e+00 3.28414053e-01 1.39706395e+00 1.31544430e+00\n",
      "  1.22474487e+00]\n",
      " [1.02184904e+00 1.01900435e+00 1.22655167e+00 7.88915558e-01\n",
      "  1.22474487e+00]\n",
      " [9.00681170e-01 1.70959465e+00 1.05603939e+00 1.05217993e+00\n",
      "  1.22474487e+00]\n",
      " [1.26418478e+00 1.31979479e-01 1.34022653e+00 1.18381211e+00\n",
      "  1.22474487e+00]\n",
      " [9.00681170e-01 1.70959465e+00 1.22655167e+00 1.31544430e+00\n",
      "  1.22474487e+00]\n",
      " [1.50652052e+00 3.28414053e-01 1.34022653e+00 1.31544430e+00\n",
      "  1.22474487e+00]\n",
      " [6.58345429e-01 1.47939788e+00 1.28338910e+00 1.31544430e+00\n",
      "  1.22474487e+00]\n",
      " [1.02184904e+00 5.58610819e-01 1.34022653e+00 1.31544430e+00\n",
      "  1.22474487e+00]\n",
      " [1.40150837e+00 3.28414053e-01 5.35408562e-01 2.64141916e-01\n",
      "  0.00000000e+00]\n",
      " [6.74501145e-01 3.28414053e-01 4.21733708e-01 3.95774101e-01\n",
      "  0.00000000e+00]\n",
      " [1.28034050e+00 9.82172869e-02 6.49083415e-01 3.95774101e-01\n",
      "  0.00000000e+00]\n",
      " [4.16009689e-01 1.74335684e+00 1.37546573e-01 1.32509732e-01\n",
      "  0.00000000e+00]\n",
      " [7.95669016e-01 5.92373012e-01 4.78571135e-01 3.95774101e-01\n",
      "  0.00000000e+00]\n",
      " [1.73673948e-01 5.92373012e-01 4.21733708e-01 1.32509732e-01\n",
      "  0.00000000e+00]\n",
      " [5.53333275e-01 5.58610819e-01 5.35408562e-01 5.27406285e-01\n",
      "  0.00000000e+00]\n",
      " [1.14301691e+00 1.51316008e+00 2.60315415e-01 2.62386821e-01\n",
      "  0.00000000e+00]\n",
      " [9.16836886e-01 3.62176246e-01 4.78571135e-01 1.32509732e-01\n",
      "  0.00000000e+00]\n",
      " [7.79513300e-01 8.22569778e-01 8.07091462e-02 2.64141916e-01\n",
      "  0.00000000e+00]\n",
      " [1.02184904e+00 2.43394714e+00 1.46640561e-01 2.62386821e-01\n",
      "  0.00000000e+00]\n",
      " [6.86617933e-02 1.31979479e-01 2.51221427e-01 3.95774101e-01\n",
      "  0.00000000e+00]\n",
      " [1.89829664e-01 1.97355361e+00 1.37546573e-01 2.62386821e-01\n",
      "  0.00000000e+00]\n",
      " [3.10997534e-01 3.62176246e-01 5.35408562e-01 2.64141916e-01\n",
      "  0.00000000e+00]\n",
      " [2.94841818e-01 3.62176246e-01 8.98031345e-02 1.32509732e-01\n",
      "  0.00000000e+00]\n",
      " [1.03800476e+00 9.82172869e-02 3.64896281e-01 2.64141916e-01\n",
      "  0.00000000e+00]\n",
      " [2.94841818e-01 1.31979479e-01 4.21733708e-01 3.95774101e-01\n",
      "  0.00000000e+00]\n",
      " [5.25060772e-02 8.22569778e-01 1.94384000e-01 2.62386821e-01\n",
      "  0.00000000e+00]\n",
      " [4.32165405e-01 1.97355361e+00 4.21733708e-01 3.95774101e-01\n",
      "  0.00000000e+00]\n",
      " [2.94841818e-01 1.28296331e+00 8.07091462e-02 1.30754636e-01\n",
      "  0.00000000e+00]\n",
      " [6.86617933e-02 3.28414053e-01 5.92245988e-01 7.90670654e-01\n",
      "  0.00000000e+00]\n",
      " [3.10997534e-01 5.92373012e-01 1.37546573e-01 1.32509732e-01\n",
      "  0.00000000e+00]\n",
      " [5.53333275e-01 1.28296331e+00 6.49083415e-01 3.95774101e-01\n",
      "  0.00000000e+00]\n",
      " [3.10997534e-01 5.92373012e-01 5.35408562e-01 8.77547895e-04\n",
      "  0.00000000e+00]\n",
      " [6.74501145e-01 3.62176246e-01 3.08058854e-01 1.32509732e-01\n",
      "  0.00000000e+00]\n",
      " [9.16836886e-01 1.31979479e-01 3.64896281e-01 2.64141916e-01\n",
      "  0.00000000e+00]\n",
      " [1.15917263e+00 5.92373012e-01 5.92245988e-01 2.64141916e-01\n",
      "  0.00000000e+00]\n",
      " [1.03800476e+00 1.31979479e-01 7.05920842e-01 6.59038469e-01\n",
      "  0.00000000e+00]\n",
      " [1.89829664e-01 3.62176246e-01 4.21733708e-01 3.95774101e-01\n",
      "  0.00000000e+00]\n",
      " [1.73673948e-01 1.05276654e+00 1.46640561e-01 2.62386821e-01\n",
      "  0.00000000e+00]\n",
      " [4.16009689e-01 1.51316008e+00 2.38717193e-02 1.30754636e-01\n",
      "  0.00000000e+00]\n",
      " [4.16009689e-01 1.51316008e+00 3.29657076e-02 2.62386821e-01\n",
      "  0.00000000e+00]\n",
      " [5.25060772e-02 8.22569778e-01 8.07091462e-02 8.77547895e-04\n",
      "  0.00000000e+00]\n",
      " [1.89829664e-01 8.22569778e-01 7.62758269e-01 5.27406285e-01\n",
      "  0.00000000e+00]\n",
      " [5.37177559e-01 1.31979479e-01 4.21733708e-01 3.95774101e-01\n",
      "  0.00000000e+00]\n",
      " [1.89829664e-01 7.88807586e-01 4.21733708e-01 5.27406285e-01\n",
      "  0.00000000e+00]\n",
      " [1.03800476e+00 9.82172869e-02 5.35408562e-01 3.95774101e-01\n",
      "  0.00000000e+00]\n",
      " [5.53333275e-01 1.74335684e+00 3.64896281e-01 1.32509732e-01\n",
      "  0.00000000e+00]\n",
      " [2.94841818e-01 1.31979479e-01 1.94384000e-01 1.32509732e-01\n",
      "  0.00000000e+00]\n",
      " [4.16009689e-01 1.28296331e+00 1.37546573e-01 1.32509732e-01\n",
      "  0.00000000e+00]\n",
      " [4.16009689e-01 1.05276654e+00 3.64896281e-01 8.77547895e-04\n",
      "  0.00000000e+00]\n",
      " [3.10997534e-01 1.31979479e-01 4.78571135e-01 2.64141916e-01\n",
      "  0.00000000e+00]\n",
      " [5.25060772e-02 1.05276654e+00 1.37546573e-01 8.77547895e-04\n",
      "  0.00000000e+00]\n",
      " [1.02184904e+00 1.74335684e+00 2.60315415e-01 2.62386821e-01\n",
      "  0.00000000e+00]\n",
      " [2.94841818e-01 8.22569778e-01 2.51221427e-01 1.32509732e-01\n",
      "  0.00000000e+00]\n",
      " [1.73673948e-01 1.31979479e-01 2.51221427e-01 8.77547895e-04\n",
      "  0.00000000e+00]\n",
      " [1.73673948e-01 3.62176246e-01 2.51221427e-01 1.32509732e-01\n",
      "  0.00000000e+00]\n",
      " [4.32165405e-01 3.62176246e-01 3.08058854e-01 1.32509732e-01\n",
      "  0.00000000e+00]\n",
      " [9.00681170e-01 1.28296331e+00 4.30827696e-01 1.30754636e-01\n",
      "  0.00000000e+00]\n",
      " [1.73673948e-01 5.92373012e-01 1.94384000e-01 1.32509732e-01\n",
      "  0.00000000e+00]\n",
      " [5.53333275e-01 5.58610819e-01 1.27429511e+00 1.71209594e+00\n",
      "  1.22474487e+00]\n",
      " [5.25060772e-02 8.22569778e-01 7.62758269e-01 9.22302838e-01\n",
      "  1.22474487e+00]\n",
      " [1.52267624e+00 1.31979479e-01 1.21745768e+00 1.18556721e+00\n",
      "  1.22474487e+00]\n",
      " [5.53333275e-01 3.62176246e-01 1.04694540e+00 7.90670654e-01\n",
      "  1.22474487e+00]\n",
      " [7.95669016e-01 1.31979479e-01 1.16062026e+00 1.31719939e+00\n",
      "  1.22474487e+00]\n",
      " [2.12851559e+00 1.31979479e-01 1.61531967e+00 1.18556721e+00\n",
      "  1.22474487e+00]\n",
      " [1.14301691e+00 1.28296331e+00 4.21733708e-01 6.59038469e-01\n",
      "  1.22474487e+00]\n",
      " [1.76501198e+00 3.62176246e-01 1.44480739e+00 7.90670654e-01\n",
      "  1.22474487e+00]\n",
      " [1.03800476e+00 1.28296331e+00 1.16062026e+00 7.90670654e-01\n",
      "  1.22474487e+00]\n",
      " [1.64384411e+00 1.24920112e+00 1.33113254e+00 1.71209594e+00\n",
      "  1.22474487e+00]\n",
      " [7.95669016e-01 3.28414053e-01 7.62758269e-01 1.05393502e+00\n",
      "  1.22474487e+00]\n",
      " [6.74501145e-01 8.22569778e-01 8.76433123e-01 9.22302838e-01\n",
      "  1.22474487e+00]\n",
      " [1.15917263e+00 1.31979479e-01 9.90107977e-01 1.18556721e+00\n",
      "  1.22474487e+00]\n",
      " [1.73673948e-01 1.28296331e+00 7.05920842e-01 1.05393502e+00\n",
      "  1.22474487e+00]\n",
      " [5.25060772e-02 5.92373012e-01 7.62758269e-01 1.58046376e+00\n",
      "  1.22474487e+00]\n",
      " [6.74501145e-01 3.28414053e-01 8.76433123e-01 1.44883158e+00\n",
      "  1.22474487e+00]\n",
      " [7.95669016e-01 1.31979479e-01 9.90107977e-01 7.90670654e-01\n",
      "  1.22474487e+00]\n",
      " [2.24968346e+00 1.70959465e+00 1.67215710e+00 1.31719939e+00\n",
      "  1.22474487e+00]\n",
      " [2.24968346e+00 1.05276654e+00 1.78583195e+00 1.44883158e+00\n",
      "  1.22474487e+00]\n",
      " [1.89829664e-01 1.97355361e+00 7.05920842e-01 3.95774101e-01\n",
      "  1.22474487e+00]\n",
      " [1.28034050e+00 3.28414053e-01 1.10378283e+00 1.44883158e+00\n",
      "  1.22474487e+00]\n",
      " [2.94841818e-01 5.92373012e-01 6.49083415e-01 1.05393502e+00\n",
      "  1.22474487e+00]\n",
      " [2.24968346e+00 5.92373012e-01 1.67215710e+00 1.05393502e+00\n",
      "  1.22474487e+00]\n",
      " [5.53333275e-01 8.22569778e-01 6.49083415e-01 7.90670654e-01\n",
      "  1.22474487e+00]\n",
      " [1.03800476e+00 5.58610819e-01 1.10378283e+00 1.18556721e+00\n",
      "  1.22474487e+00]\n",
      " [1.64384411e+00 3.28414053e-01 1.27429511e+00 7.90670654e-01\n",
      "  1.22474487e+00]\n",
      " [4.32165405e-01 5.92373012e-01 5.92245988e-01 7.90670654e-01\n",
      "  1.22474487e+00]\n",
      " [3.10997534e-01 1.31979479e-01 6.49083415e-01 7.90670654e-01\n",
      "  1.22474487e+00]\n",
      " [6.74501145e-01 5.92373012e-01 1.04694540e+00 1.18556721e+00\n",
      "  1.22474487e+00]\n",
      " [1.64384411e+00 1.31979479e-01 1.16062026e+00 5.27406285e-01\n",
      "  1.22474487e+00]\n",
      " [1.88617985e+00 5.92373012e-01 1.33113254e+00 9.22302838e-01\n",
      "  1.22474487e+00]\n",
      " [2.49201920e+00 1.70959465e+00 1.50164482e+00 1.05393502e+00\n",
      "  1.22474487e+00]\n",
      " [6.74501145e-01 5.92373012e-01 1.04694540e+00 1.31719939e+00\n",
      "  1.22474487e+00]\n",
      " [5.53333275e-01 5.92373012e-01 7.62758269e-01 3.95774101e-01\n",
      "  1.22474487e+00]\n",
      " [3.10997534e-01 1.05276654e+00 1.04694540e+00 2.64141916e-01\n",
      "  1.22474487e+00]\n",
      " [2.24968346e+00 1.31979479e-01 1.33113254e+00 1.44883158e+00\n",
      "  1.22474487e+00]\n",
      " [5.53333275e-01 7.88807586e-01 1.04694540e+00 1.58046376e+00\n",
      "  1.22474487e+00]\n",
      " [6.74501145e-01 9.82172869e-02 9.90107977e-01 7.90670654e-01\n",
      "  1.22474487e+00]\n",
      " [1.89829664e-01 1.31979479e-01 5.92245988e-01 7.90670654e-01\n",
      "  1.22474487e+00]\n",
      " [1.28034050e+00 9.82172869e-02 9.33270550e-01 1.18556721e+00\n",
      "  1.22474487e+00]\n",
      " [1.03800476e+00 9.82172869e-02 1.04694540e+00 1.58046376e+00\n",
      "  1.22474487e+00]\n",
      " [1.28034050e+00 9.82172869e-02 7.62758269e-01 1.44883158e+00\n",
      "  1.22474487e+00]\n",
      " [5.25060772e-02 8.22569778e-01 7.62758269e-01 9.22302838e-01\n",
      "  1.22474487e+00]\n",
      " [1.15917263e+00 3.28414053e-01 1.21745768e+00 1.44883158e+00\n",
      "  1.22474487e+00]\n",
      " [1.03800476e+00 5.58610819e-01 1.10378283e+00 1.71209594e+00\n",
      "  1.22474487e+00]\n",
      " [1.03800476e+00 1.31979479e-01 8.19595696e-01 1.44883158e+00\n",
      "  1.22474487e+00]\n",
      " [5.53333275e-01 1.28296331e+00 7.05920842e-01 9.22302838e-01\n",
      "  1.22474487e+00]\n",
      " [7.95669016e-01 1.31979479e-01 8.19595696e-01 1.05393502e+00\n",
      "  1.22474487e+00]\n",
      " [4.32165405e-01 7.88807586e-01 9.33270550e-01 1.44883158e+00\n",
      "  1.22474487e+00]\n",
      " [6.86617933e-02 1.31979479e-01 7.62758269e-01 7.90670654e-01\n",
      "  1.22474487e+00]]\n"
     ]
    }
   ],
   "source": [
    "z = np.abs(stats.zscore(df))\n",
    "print(z)"
   ]
  },
  {
   "cell_type": "code",
   "execution_count": 10,
   "id": "71108c4d",
   "metadata": {},
   "outputs": [
    {
     "name": "stdout",
     "output_type": "stream",
     "text": [
      "(array([15], dtype=int64), array([1], dtype=int64))\n"
     ]
    }
   ],
   "source": [
    "#Z score greater in the range -3 and 3 indicates an unsual amount of distance from the center, meaning an outlier.\n",
    "# For example the the output array basically means z[25][2] has an outlier where 25 is the row and 2 is the column.\n",
    "#Note that we have quite a few outliers in the 2nd feature.\n",
    "threshold = 3\n",
    "print(np.where(z > 3))"
   ]
  },
  {
   "cell_type": "code",
   "execution_count": 11,
   "id": "0dc6bf96",
   "metadata": {},
   "outputs": [
    {
     "name": "stdout",
     "output_type": "stream",
     "text": [
      "sepal length (cm)    1.3\n",
      "sepal width (cm)     0.5\n",
      "petal length (cm)    3.5\n",
      "petal width (cm)     1.5\n",
      "target               2.0\n",
      "dtype: float64\n"
     ]
    }
   ],
   "source": [
    "#Checking for outliers using interquartile range\n",
    "Q1 = df.quantile(0.25)\n",
    "Q3 = df.quantile(0.75)\n",
    "IQR = Q3 - Q1\n",
    "print(IQR)"
   ]
  },
  {
   "cell_type": "code",
   "execution_count": 12,
   "id": "2fb99ce6",
   "metadata": {},
   "outputs": [
    {
     "name": "stdout",
     "output_type": "stream",
     "text": [
      "     sepal length (cm)  sepal width (cm)  petal length (cm)  petal width (cm)  \\\n",
      "0                False             False              False             False   \n",
      "1                False             False              False             False   \n",
      "2                False             False              False             False   \n",
      "3                False             False              False             False   \n",
      "4                False             False              False             False   \n",
      "..                 ...               ...                ...               ...   \n",
      "145              False             False              False             False   \n",
      "146              False             False              False             False   \n",
      "147              False             False              False             False   \n",
      "148              False             False              False             False   \n",
      "149              False             False              False             False   \n",
      "\n",
      "     target  \n",
      "0     False  \n",
      "1     False  \n",
      "2     False  \n",
      "3     False  \n",
      "4     False  \n",
      "..      ...  \n",
      "145   False  \n",
      "146   False  \n",
      "147   False  \n",
      "148   False  \n",
      "149   False  \n",
      "\n",
      "[150 rows x 5 columns]\n"
     ]
    },
    {
     "data": {
      "text/html": [
       "<div>\n",
       "<style scoped>\n",
       "    .dataframe tbody tr th:only-of-type {\n",
       "        vertical-align: middle;\n",
       "    }\n",
       "\n",
       "    .dataframe tbody tr th {\n",
       "        vertical-align: top;\n",
       "    }\n",
       "\n",
       "    .dataframe thead th {\n",
       "        text-align: right;\n",
       "    }\n",
       "</style>\n",
       "<table border=\"1\" class=\"dataframe\">\n",
       "  <thead>\n",
       "    <tr style=\"text-align: right;\">\n",
       "      <th></th>\n",
       "      <th>sepal length (cm)</th>\n",
       "      <th>sepal width (cm)</th>\n",
       "      <th>petal length (cm)</th>\n",
       "      <th>petal width (cm)</th>\n",
       "      <th>target</th>\n",
       "    </tr>\n",
       "  </thead>\n",
       "  <tbody>\n",
       "    <tr>\n",
       "      <th>0</th>\n",
       "      <td>False</td>\n",
       "      <td>False</td>\n",
       "      <td>False</td>\n",
       "      <td>False</td>\n",
       "      <td>False</td>\n",
       "    </tr>\n",
       "    <tr>\n",
       "      <th>1</th>\n",
       "      <td>False</td>\n",
       "      <td>False</td>\n",
       "      <td>False</td>\n",
       "      <td>False</td>\n",
       "      <td>False</td>\n",
       "    </tr>\n",
       "    <tr>\n",
       "      <th>2</th>\n",
       "      <td>False</td>\n",
       "      <td>False</td>\n",
       "      <td>False</td>\n",
       "      <td>False</td>\n",
       "      <td>False</td>\n",
       "    </tr>\n",
       "    <tr>\n",
       "      <th>3</th>\n",
       "      <td>False</td>\n",
       "      <td>False</td>\n",
       "      <td>False</td>\n",
       "      <td>False</td>\n",
       "      <td>False</td>\n",
       "    </tr>\n",
       "    <tr>\n",
       "      <th>4</th>\n",
       "      <td>False</td>\n",
       "      <td>False</td>\n",
       "      <td>False</td>\n",
       "      <td>False</td>\n",
       "      <td>False</td>\n",
       "    </tr>\n",
       "    <tr>\n",
       "      <th>...</th>\n",
       "      <td>...</td>\n",
       "      <td>...</td>\n",
       "      <td>...</td>\n",
       "      <td>...</td>\n",
       "      <td>...</td>\n",
       "    </tr>\n",
       "    <tr>\n",
       "      <th>145</th>\n",
       "      <td>False</td>\n",
       "      <td>False</td>\n",
       "      <td>False</td>\n",
       "      <td>False</td>\n",
       "      <td>False</td>\n",
       "    </tr>\n",
       "    <tr>\n",
       "      <th>146</th>\n",
       "      <td>False</td>\n",
       "      <td>False</td>\n",
       "      <td>False</td>\n",
       "      <td>False</td>\n",
       "      <td>False</td>\n",
       "    </tr>\n",
       "    <tr>\n",
       "      <th>147</th>\n",
       "      <td>False</td>\n",
       "      <td>False</td>\n",
       "      <td>False</td>\n",
       "      <td>False</td>\n",
       "      <td>False</td>\n",
       "    </tr>\n",
       "    <tr>\n",
       "      <th>148</th>\n",
       "      <td>False</td>\n",
       "      <td>False</td>\n",
       "      <td>False</td>\n",
       "      <td>False</td>\n",
       "      <td>False</td>\n",
       "    </tr>\n",
       "    <tr>\n",
       "      <th>149</th>\n",
       "      <td>False</td>\n",
       "      <td>False</td>\n",
       "      <td>False</td>\n",
       "      <td>False</td>\n",
       "      <td>False</td>\n",
       "    </tr>\n",
       "  </tbody>\n",
       "</table>\n",
       "<p>150 rows × 5 columns</p>\n",
       "</div>"
      ],
      "text/plain": [
       "     sepal length (cm)  sepal width (cm)  petal length (cm)  petal width (cm)  \\\n",
       "0                False             False              False             False   \n",
       "1                False             False              False             False   \n",
       "2                False             False              False             False   \n",
       "3                False             False              False             False   \n",
       "4                False             False              False             False   \n",
       "..                 ...               ...                ...               ...   \n",
       "145              False             False              False             False   \n",
       "146              False             False              False             False   \n",
       "147              False             False              False             False   \n",
       "148              False             False              False             False   \n",
       "149              False             False              False             False   \n",
       "\n",
       "     target  \n",
       "0     False  \n",
       "1     False  \n",
       "2     False  \n",
       "3     False  \n",
       "4     False  \n",
       "..      ...  \n",
       "145   False  \n",
       "146   False  \n",
       "147   False  \n",
       "148   False  \n",
       "149   False  \n",
       "\n",
       "[150 rows x 5 columns]"
      ]
     },
     "execution_count": 12,
     "metadata": {},
     "output_type": "execute_result"
    }
   ],
   "source": [
    "#True indicates outliers, returns boolean\n",
    "print(df < (Q1 - 1.5 * IQR)) or (df > (Q3 + 1.5 * IQR))"
   ]
  },
  {
   "cell_type": "markdown",
   "id": "7a651da4",
   "metadata": {},
   "source": [
    "# Visualization"
   ]
  },
  {
   "cell_type": "code",
   "execution_count": 15,
   "id": "1f840846",
   "metadata": {},
   "outputs": [
    {
     "data": {
      "image/png": "[encoded data removed]",
      "text/plain": [
       "<Figure size 432x288 with 1 Axes>"
      ]
     },
     "metadata": {
      "needs_background": "light"
     },
     "output_type": "display_data"
    }
   ],
   "source": [
    "plt.scatter(sepal_length,petal_length, c = target)\n",
    "plt.xlabel('Sepal length')\n",
    "plt.ylabel('Petal length')\n",
    "plt.show()"
   ]
  },
  {
   "cell_type": "code",
   "execution_count": 16,
   "id": "47801afd",
   "metadata": {},
   "outputs": [
    {
     "data": {
      "image/png": "[encoded data removed]",
      "text/plain": [
       "<Figure size 432x288 with 1 Axes>"
      ]
     },
     "metadata": {
      "needs_background": "light"
     },
     "output_type": "display_data"
    }
   ],
   "source": [
    "plt.scatter(sepal_width,petal_width, c = target)\n",
    "plt.xlabel('Sepal width')\n",
    "plt.ylabel('Petal width')\n",
    "plt.show()"
   ]
  },
  {
   "cell_type": "markdown",
   "id": "40df5b2d",
   "metadata": {},
   "source": [
    "# Classfication for Sepal and petal length"
   ]
  },
  {
   "cell_type": "code",
   "execution_count": 17,
   "id": "f73a3aef",
   "metadata": {},
   "outputs": [],
   "source": [
    "#converting them into a single array\n",
    "X = np.column_stack((sepal_length, petal_length))\n",
    "y = iris.target\n",
    "\n",
    "x_train,x_test,y_train,y_test = train_test_split(X,y,test_size=0.2,random_state = 0)"
   ]
  },
  {
   "cell_type": "code",
   "execution_count": 18,
   "id": "0e94b24f",
   "metadata": {},
   "outputs": [],
   "source": [
    "clf = svm.SVC(kernel = 'linear', C=1)"
   ]
  },
  {
   "cell_type": "code",
   "execution_count": 19,
   "id": "f92b536c",
   "metadata": {},
   "outputs": [
    {
     "data": {
      "text/plain": [
       "SVC(C=1, kernel='linear')"
      ]
     },
     "execution_count": 19,
     "metadata": {},
     "output_type": "execute_result"
    }
   ],
   "source": [
    "clf.fit(x_train,y_train)"
   ]
  },
  {
   "cell_type": "code",
   "execution_count": 20,
   "id": "cc23b7fd",
   "metadata": {},
   "outputs": [
    {
     "data": {
      "text/plain": [
       "0.9666666666666667"
      ]
     },
     "execution_count": 20,
     "metadata": {},
     "output_type": "execute_result"
    }
   ],
   "source": [
    "clf.score(x_test,y_test)"
   ]
  },
  {
   "cell_type": "code",
   "execution_count": 37,
   "id": "6004c204",
   "metadata": {},
   "outputs": [],
   "source": [
    "y_pred = clf.predict(x_test)"
   ]
  },
  {
   "cell_type": "code",
   "execution_count": 38,
   "id": "8d4143c8",
   "metadata": {},
   "outputs": [
    {
     "data": {
      "text/plain": [
       "<AxesSubplot:>"
      ]
     },
     "execution_count": 38,
     "metadata": {},
     "output_type": "execute_result"
    },
    {
     "data": {
      "image/png": "[encoded data removed]",
      "text/plain": [
       "<Figure size 432x288 with 1 Axes>"
      ]
     },
     "metadata": {
      "needs_background": "light"
     },
     "output_type": "display_data"
    }
   ],
   "source": [
    "plot_decision_regions(X = x_test , y = y_test,clf = clf, legend = 1)"
   ]
  },
  {
   "cell_type": "markdown",
   "id": "97eac4f8",
   "metadata": {},
   "source": [
    "# Classification for sepal and petal width"
   ]
  },
  {
   "cell_type": "code",
   "execution_count": 39,
   "id": "de3f6a82",
   "metadata": {},
   "outputs": [],
   "source": [
    "#converting them into a single array\n",
    "X1 = np.column_stack((sepal_width, petal_width))\n",
    "y1 = iris.target\n",
    "\n",
    "x_train,x_test,y_train,y_test = train_test_split(X1,y1,test_size=0.2,random_state = 0)"
   ]
  },
  {
   "cell_type": "code",
   "execution_count": 40,
   "id": "0f7f6bc1",
   "metadata": {},
   "outputs": [],
   "source": [
    "clf = svm.SVC(kernel = 'linear', C=1)"
   ]
  },
  {
   "cell_type": "code",
   "execution_count": 41,
   "id": "1d67b510",
   "metadata": {},
   "outputs": [
    {
     "data": {
      "text/plain": [
       "0.9666666666666667"
      ]
     },
     "execution_count": 41,
     "metadata": {},
     "output_type": "execute_result"
    }
   ],
   "source": [
    "#Accuracy score, the score seems to be similar to both sepal and petal.\n",
    "#Svm remains accurate for both of the measurements. \n",
    "clf.fit(x_train,y_train)\n",
    "clf.score(x_test,y_test)"
   ]
  },
  {
   "cell_type": "code",
   "execution_count": 42,
   "id": "82355195",
   "metadata": {},
   "outputs": [],
   "source": [
    "y1_pred = clf.predict(x_test)"
   ]
  },
  {
   "cell_type": "code",
   "execution_count": 43,
   "id": "6898cad8",
   "metadata": {},
   "outputs": [
    {
     "data": {
      "text/plain": [
       "<AxesSubplot:>"
      ]
     },
     "execution_count": 43,
     "metadata": {},
     "output_type": "execute_result"
    },
    {
     "data": {
      "image/png": "[encoded data removed]",
      "text/plain": [
       "<Figure size 432x288 with 1 Axes>"
      ]
     },
     "metadata": {
      "needs_background": "light"
     },
     "output_type": "display_data"
    }
   ],
   "source": [
    "plot_decision_regions(X = x_test , y = y_test,clf = clf, legend = 1)"
   ]
  },
  {
   "cell_type": "markdown",
   "id": "14149f70",
   "metadata": {},
   "source": [
    "# Metrics used for SVM (Sepal & petal length)"
   ]
  },
  {
   "cell_type": "code",
   "execution_count": 46,
   "id": "c3e97d26",
   "metadata": {},
   "outputs": [
    {
     "name": "stdout",
     "output_type": "stream",
     "text": [
      "Precision: 0.9666666666666667\n"
     ]
    },
    {
     "name": "stderr",
     "output_type": "stream",
     "text": [
      "C:\\Users\\sourabh\\AppData\\Roaming\\Python\\Python39\\site-packages\\sklearn\\metrics\\_classification.py:1298: UserWarning: Note that pos_label (set to 'positive') is ignored when average != 'binary' (got 'micro'). You may use labels=[pos_label] to specify a single positive class.\n",
      "  warnings.warn(\"Note that pos_label (set to %r) is ignored when \"\n"
     ]
    }
   ],
   "source": [
    "#Accuracy scores have been mentioned above for length and breadth. \n",
    "#pos_label, average is required for multi class varibales \n",
    "#if we do not mention the average is set to binary by default.\n",
    "print(\"Precision:\",metrics.precision_score(y_test, y_pred,pos_label='positive',\n",
    "                                           average='micro'))"
   ]
  },
  {
   "cell_type": "code",
   "execution_count": 47,
   "id": "a76cfbe2",
   "metadata": {},
   "outputs": [
    {
     "name": "stdout",
     "output_type": "stream",
     "text": [
      "Recall: 0.9666666666666667\n"
     ]
    },
    {
     "name": "stderr",
     "output_type": "stream",
     "text": [
      "C:\\Users\\sourabh\\AppData\\Roaming\\Python\\Python39\\site-packages\\sklearn\\metrics\\_classification.py:1298: UserWarning: Note that pos_label (set to 'positive') is ignored when average != 'binary' (got 'micro'). You may use labels=[pos_label] to specify a single positive class.\n",
      "  warnings.warn(\"Note that pos_label (set to %r) is ignored when \"\n"
     ]
    }
   ],
   "source": [
    "print(\"Recall:\",metrics.recall_score(y_test, y_pred,pos_label='positive',\n",
    "                                           average='micro'))"
   ]
  },
  {
   "cell_type": "markdown",
   "id": "06d89512",
   "metadata": {},
   "source": [
    "# Metrics used for SVM (Sepal & petal width)"
   ]
  },
  {
   "cell_type": "code",
   "execution_count": 49,
   "id": "b8c316eb",
   "metadata": {},
   "outputs": [
    {
     "name": "stdout",
     "output_type": "stream",
     "text": [
      "Precision: 0.9666666666666667\n"
     ]
    },
    {
     "name": "stderr",
     "output_type": "stream",
     "text": [
      "C:\\Users\\sourabh\\AppData\\Roaming\\Python\\Python39\\site-packages\\sklearn\\metrics\\_classification.py:1298: UserWarning: Note that pos_label (set to 'positive') is ignored when average != 'binary' (got 'micro'). You may use labels=[pos_label] to specify a single positive class.\n",
      "  warnings.warn(\"Note that pos_label (set to %r) is ignored when \"\n"
     ]
    }
   ],
   "source": [
    "print(\"Precision:\",metrics.precision_score(y_test, y1_pred,pos_label='positive',\n",
    "                                           average='micro'))"
   ]
  },
  {
   "cell_type": "code",
   "execution_count": 50,
   "id": "a6d25708",
   "metadata": {},
   "outputs": [
    {
     "name": "stdout",
     "output_type": "stream",
     "text": [
      "Recall: 0.9666666666666667\n"
     ]
    },
    {
     "name": "stderr",
     "output_type": "stream",
     "text": [
      "C:\\Users\\sourabh\\AppData\\Roaming\\Python\\Python39\\site-packages\\sklearn\\metrics\\_classification.py:1298: UserWarning: Note that pos_label (set to 'positive') is ignored when average != 'binary' (got 'micro'). You may use labels=[pos_label] to specify a single positive class.\n",
      "  warnings.warn(\"Note that pos_label (set to %r) is ignored when \"\n"
     ]
    }
   ],
   "source": [
    "print(\"Recall:\",metrics.recall_score(y_test, y1_pred,pos_label='positive',\n",
    "                                           average='micro'))"
   ]
  },
  {
   "cell_type": "markdown",
   "id": "859fb780",
   "metadata": {},
   "source": [
    "# Confusion matrix"
   ]
  },
  {
   "cell_type": "code",
   "execution_count": 54,
   "id": "618a88ed",
   "metadata": {},
   "outputs": [
    {
     "name": "stdout",
     "output_type": "stream",
     "text": [
      "[[11  0  0]\n",
      " [ 0 13  0]\n",
      " [ 0  1  5]]\n"
     ]
    },
    {
     "name": "stderr",
     "output_type": "stream",
     "text": [
      "C:\\Users\\sourabh\\AppData\\Roaming\\Python\\Python39\\site-packages\\sklearn\\utils\\validation.py:70: FutureWarning: Pass labels=[0, 1, 2] as keyword args. From version 1.0 (renaming of 0.25) passing these as positional arguments will result in an error\n",
      "  warnings.warn(f\"Pass {args_msg} as keyword args. From version \"\n",
      "<ipython-input-54-c843a71d08c6>:9: UserWarning: FixedFormatter should only be used together with FixedLocator\n",
      "  ax1.set_xticklabels([''] + labels)\n",
      "<ipython-input-54-c843a71d08c6>:10: UserWarning: FixedFormatter should only be used together with FixedLocator\n",
      "  ax1.set_yticklabels([''] + labels)\n"
     ]
    },
    {
     "data": {
      "image/png": "[encoded data removed]",
      "text/plain": [
       "<Figure size 432x288 with 2 Axes>"
      ]
     },
     "metadata": {
      "needs_background": "light"
     },
     "output_type": "display_data"
    }
   ],
   "source": [
    "labels = [0,1,2]\n",
    "cm = confusion_matrix(y_test, y_pred, labels)\n",
    "print(cm)\n",
    "fig1 = plt.figure()\n",
    "ax1 = fig1.add_subplot(111)\n",
    "cax1 = ax1.matshow(cm)\n",
    "plt.title('Confusion matrix')\n",
    "fig1.colorbar(cax1)\n",
    "ax1.set_xticklabels([''] + labels)\n",
    "ax1.set_yticklabels([''] + labels)\n",
    "plt.xlabel('Predicted Values')\n",
    "plt.ylabel('Actual Values')\n",
    "plt.show()"
   ]
  },
  {
   "cell_type": "code",
   "execution_count": null,
   "id": "901bbb07",
   "metadata": {},
   "outputs": [],
   "source": []
  }
 ],
 "metadata": {
  "kernelspec": {
   "display_name": "Python 3",
   "language": "python",
   "name": "python3"
  },
  "language_info": {
   "codemirror_mode": {
    "name": "ipython",
    "version": 3
   },
   "file_extension": ".py",
   "mimetype": "text/x-python",
   "name": "python",
   "nbconvert_exporter": "python",
   "pygments_lexer": "ipython3",
   "version": "3.9.5"
  }
 },
 "nbformat": 4,
 "nbformat_minor": 5
}
